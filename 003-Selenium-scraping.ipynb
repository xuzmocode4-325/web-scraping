{
 "cells": [
  {
   "cell_type": "markdown",
   "metadata": {},
   "source": [
    "# Selenium For Webscraping"
   ]
  },
  {
   "cell_type": "markdown",
   "metadata": {},
   "source": [
    "Designed for Test Automation of Web Applications. Slow. Ideal for Intermediate Level Tasks. "
   ]
  },
  {
   "cell_type": "code",
   "execution_count": 1,
   "metadata": {},
   "outputs": [],
   "source": [
    "import time\n",
    "import pandas as pd\n",
    "from pathlib import Path\n",
    "from selenium import webdriver\n",
    "from selenium.webdriver.common.by import By\n",
    "from selenium.webdriver.support import expected_conditions as ec\n",
    "from selenium.webdriver.support.ui import Select, WebDriverWait\n",
    "from selenium.webdriver.chrome.service import Service\n",
    "from selenium.webdriver.chrome.options import Options\n"
   ]
  },
  {
   "cell_type": "markdown",
   "metadata": {},
   "source": [
    "## Configuring The Driver"
   ]
  },
  {
   "cell_type": "code",
   "execution_count": 2,
   "metadata": {},
   "outputs": [],
   "source": [
    "#path to chromedriver on the PC (Version must match installed version of Chrome)\n",
    "driver_path = '/opt/homebrew/bin/chromedriver'"
   ]
  },
  {
   "cell_type": "code",
   "execution_count": 3,
   "metadata": {},
   "outputs": [],
   "source": [
    "# Create an instance of ChromeOptions\n",
    "options = Options()\n",
    "options.add_argument(\"--headless\")\n",
    "\n",
    "# Pass the options to the Chrome driver\n",
    "driver = webdriver.Chrome(service=Service(driver_path), options=options)"
   ]
  },
  {
   "cell_type": "code",
   "execution_count": 4,
   "metadata": {},
   "outputs": [],
   "source": [
    "# Get response from the website\n",
    "website = 'https://www.adamchoi.co.uk/overs/detailed'\n",
    "driver.get(website)"
   ]
  },
  {
   "cell_type": "markdown",
   "metadata": {},
   "source": [
    "## Finding Elements With Selenium"
   ]
  },
  {
   "cell_type": "markdown",
   "metadata": {},
   "source": [
    "1. Finding elements by id\n",
    "\n",
    "        singular - driver.find_element_by_id('id')\n",
    "        multiple - driver.find_elements_by_id('id')\n",
    "\n",
    "2. Finding elements by class name. \n",
    "\n",
    "        singular - driver.find_element_by_class_name('class_name')\n",
    "        multiple - driver.find_elements_by_class_name('class_name')\n",
    "\n",
    "3. Finding elements by tag name.\n",
    "\n",
    "        singular - driver.find_element_by_tag_name('tag_name')\n",
    "        multiple - driver.find_elements_by_tag_name('tag_name')\n",
    "\n",
    "4. Finding elements by XPath\n",
    "\n",
    "        singular - driver.find_element_by_xpath('xpath_expression')\n",
    "        multiple - driver.find_elements_by_xpath('xpath_expression')\n",
    "\n",
    "5. Finding elements by css selector\n",
    "\n",
    "        singular - driver.find_element_by_css_selector('css_selector')\n",
    "        multiple - driver.find_elements_by_css_selector('css_selector')\n",
    "\n",
    "6. Finding elements by name \n",
    "\n",
    "        singular - driver.find_element_by_name('name')\n",
    "        multiple - driver.find_elements_by_name('name')\n",
    "\n",
    "7. Finding elements by link text\n",
    "\n",
    "        singular - driver.find_element_by_link_text('link_text')\n",
    "        multiple - driver.find_elements_by_link_text('link_text')\n"
   ]
  },
  {
   "cell_type": "code",
   "execution_count": 5,
   "metadata": {},
   "outputs": [],
   "source": [
    "# interacting with JS web elements\n",
    "\n",
    "all_matches_button = driver.find_element(By.XPATH, '//label[@analytics-event=\"All matches\"]')\n",
    "all_matches_button.click()"
   ]
  },
  {
   "cell_type": "code",
   "execution_count": 6,
   "metadata": {},
   "outputs": [],
   "source": [
    "matches = driver.find_elements(By.TAG_NAME, 'tr')\n"
   ]
  },
  {
   "cell_type": "code",
   "execution_count": 57,
   "metadata": {},
   "outputs": [],
   "source": [
    "def catch_element_error(root,by,selector, link=False):\n",
    "    if not link:\n",
    "        try: \n",
    "            return root.find_element(by, selector).text\n",
    "        except:\n",
    "            return None\n",
    "    else: \n",
    "        try: \n",
    "            return root.find_element(by, selector).get_attribute(\"href\")\n",
    "        except:\n",
    "            return None\n"
   ]
  },
  {
   "cell_type": "markdown",
   "metadata": {},
   "source": [
    "## Compiling Data Into A DataFrame "
   ]
  },
  {
   "cell_type": "code",
   "execution_count": 8,
   "metadata": {},
   "outputs": [],
   "source": [
    "date = []\n",
    "home_team = []\n",
    "result = []\n",
    "away_team = []\n",
    "\n",
    "for match in matches:\n",
    "    date.append(catch_element_error(match, By.XPATH, './td[1]'))\n",
    "    home_team.append(catch_element_error(match, By.XPATH, './td[3]'))\n",
    "    result.append(catch_element_error(match, By.XPATH, './td[4]'))\n",
    "    away_team.append(catch_element_error(match, By.XPATH, './td[5]'))"
   ]
  },
  {
   "cell_type": "code",
   "execution_count": 9,
   "metadata": {},
   "outputs": [
    {
     "data": {
      "text/html": [
       "<div>\n",
       "<style scoped>\n",
       "    .dataframe tbody tr th:only-of-type {\n",
       "        vertical-align: middle;\n",
       "    }\n",
       "\n",
       "    .dataframe tbody tr th {\n",
       "        vertical-align: top;\n",
       "    }\n",
       "\n",
       "    .dataframe thead th {\n",
       "        text-align: right;\n",
       "    }\n",
       "</style>\n",
       "<table border=\"1\" class=\"dataframe\">\n",
       "  <thead>\n",
       "    <tr style=\"text-align: right;\">\n",
       "      <th></th>\n",
       "      <th>date</th>\n",
       "      <th>home_team</th>\n",
       "      <th>result</th>\n",
       "      <th>away_team</th>\n",
       "    </tr>\n",
       "  </thead>\n",
       "  <tbody>\n",
       "    <tr>\n",
       "      <th>0</th>\n",
       "      <td>17-08-2024</td>\n",
       "      <td>Arsenal</td>\n",
       "      <td>2 - 0</td>\n",
       "      <td>Wolves</td>\n",
       "    </tr>\n",
       "    <tr>\n",
       "      <th>1</th>\n",
       "      <td>24-08-2024</td>\n",
       "      <td>Aston Villa</td>\n",
       "      <td>0 - 2</td>\n",
       "      <td>Arsenal</td>\n",
       "    </tr>\n",
       "    <tr>\n",
       "      <th>2</th>\n",
       "      <td>31-08-2024</td>\n",
       "      <td>Arsenal</td>\n",
       "      <td>1 - 1</td>\n",
       "      <td>Brighton</td>\n",
       "    </tr>\n",
       "    <tr>\n",
       "      <th>3</th>\n",
       "      <td>15-09-2024</td>\n",
       "      <td>Tottenham</td>\n",
       "      <td>0 - 1</td>\n",
       "      <td>Arsenal</td>\n",
       "    </tr>\n",
       "    <tr>\n",
       "      <th>4</th>\n",
       "      <td>22-09-2024</td>\n",
       "      <td>Man City</td>\n",
       "      <td>2 - 2</td>\n",
       "      <td>Arsenal</td>\n",
       "    </tr>\n",
       "    <tr>\n",
       "      <th>...</th>\n",
       "      <td>...</td>\n",
       "      <td>...</td>\n",
       "      <td>...</td>\n",
       "      <td>...</td>\n",
       "    </tr>\n",
       "    <tr>\n",
       "      <th>473</th>\n",
       "      <td>06-01-2025</td>\n",
       "      <td>Wolves</td>\n",
       "      <td>0 - 3</td>\n",
       "      <td>Nott'm Forest</td>\n",
       "    </tr>\n",
       "    <tr>\n",
       "      <th>474</th>\n",
       "      <td>15-01-2025</td>\n",
       "      <td>Newcastle</td>\n",
       "      <td>3 - 0</td>\n",
       "      <td>Wolves</td>\n",
       "    </tr>\n",
       "    <tr>\n",
       "      <th>475</th>\n",
       "      <td>20-01-2025</td>\n",
       "      <td>Chelsea</td>\n",
       "      <td>3 - 1</td>\n",
       "      <td>Wolves</td>\n",
       "    </tr>\n",
       "    <tr>\n",
       "      <th>476</th>\n",
       "      <td>25-01-2025</td>\n",
       "      <td>Wolves</td>\n",
       "      <td>? - ?</td>\n",
       "      <td>Arsenal</td>\n",
       "    </tr>\n",
       "    <tr>\n",
       "      <th>477</th>\n",
       "      <td>Next match O/U 2.5 odds vs Arsenal\\n1.80</td>\n",
       "      <td>None</td>\n",
       "      <td>None</td>\n",
       "      <td>None</td>\n",
       "    </tr>\n",
       "  </tbody>\n",
       "</table>\n",
       "<p>478 rows × 4 columns</p>\n",
       "</div>"
      ],
      "text/plain": [
       "                                         date    home_team result  \\\n",
       "0                                  17-08-2024      Arsenal  2 - 0   \n",
       "1                                  24-08-2024  Aston Villa  0 - 2   \n",
       "2                                  31-08-2024      Arsenal  1 - 1   \n",
       "3                                  15-09-2024    Tottenham  0 - 1   \n",
       "4                                  22-09-2024     Man City  2 - 2   \n",
       "..                                        ...          ...    ...   \n",
       "473                                06-01-2025       Wolves  0 - 3   \n",
       "474                                15-01-2025    Newcastle  3 - 0   \n",
       "475                                20-01-2025      Chelsea  3 - 1   \n",
       "476                                25-01-2025       Wolves  ? - ?   \n",
       "477  Next match O/U 2.5 odds vs Arsenal\\n1.80         None   None   \n",
       "\n",
       "         away_team  \n",
       "0           Wolves  \n",
       "1          Arsenal  \n",
       "2         Brighton  \n",
       "3          Arsenal  \n",
       "4          Arsenal  \n",
       "..             ...  \n",
       "473  Nott'm Forest  \n",
       "474         Wolves  \n",
       "475         Wolves  \n",
       "476        Arsenal  \n",
       "477           None  \n",
       "\n",
       "[478 rows x 4 columns]"
      ]
     },
     "execution_count": 9,
     "metadata": {},
     "output_type": "execute_result"
    }
   ],
   "source": [
    "data = {\n",
    "    'date': date, \n",
    "    'home_team': home_team,\n",
    "    'result': result,\n",
    "    'away_team': away_team\n",
    "}\n",
    "\n",
    "df = pd.DataFrame(data)\n",
    "df"
   ]
  },
  {
   "cell_type": "code",
   "execution_count": 10,
   "metadata": {},
   "outputs": [
    {
     "data": {
      "text/plain": [
       "date          0\n",
       "home_team    28\n",
       "result       28\n",
       "away_team    28\n",
       "dtype: int64"
      ]
     },
     "execution_count": 10,
     "metadata": {},
     "output_type": "execute_result"
    }
   ],
   "source": [
    "df.isna().sum()"
   ]
  },
  {
   "cell_type": "markdown",
   "metadata": {},
   "source": [
    "## Selecting Elements Using Dropdowns"
   ]
  },
  {
   "cell_type": "code",
   "execution_count": 11,
   "metadata": {},
   "outputs": [],
   "source": [
    "dropdown = Select(driver.find_element(By.ID, 'country'))\n",
    "dropdown.select_by_visible_text('Spain')\n",
    "\n",
    "time.sleep(5)\n",
    "\n",
    "matches = driver.find_elements(By.TAG_NAME, 'tr')"
   ]
  },
  {
   "cell_type": "code",
   "execution_count": 12,
   "metadata": {},
   "outputs": [],
   "source": [
    "date = []\n",
    "home_team = []\n",
    "result = []\n",
    "away_team = []\n",
    "\n",
    "for match in matches:\n",
    "    date.append(catch_element_error(match, By.XPATH, './td[1]'))\n",
    "    home_team.append(catch_element_error(match, By.XPATH, './td[3]'))\n",
    "    result.append(catch_element_error(match, By.XPATH, './td[4]'))\n",
    "    away_team.append(catch_element_error(match, By.XPATH, './td[5]'))"
   ]
  },
  {
   "cell_type": "code",
   "execution_count": 13,
   "metadata": {},
   "outputs": [
    {
     "data": {
      "text/html": [
       "<div>\n",
       "<style scoped>\n",
       "    .dataframe tbody tr th:only-of-type {\n",
       "        vertical-align: middle;\n",
       "    }\n",
       "\n",
       "    .dataframe tbody tr th {\n",
       "        vertical-align: top;\n",
       "    }\n",
       "\n",
       "    .dataframe thead th {\n",
       "        text-align: right;\n",
       "    }\n",
       "</style>\n",
       "<table border=\"1\" class=\"dataframe\">\n",
       "  <thead>\n",
       "    <tr style=\"text-align: right;\">\n",
       "      <th></th>\n",
       "      <th>date</th>\n",
       "      <th>home_team</th>\n",
       "      <th>result</th>\n",
       "      <th>away_team</th>\n",
       "    </tr>\n",
       "  </thead>\n",
       "  <tbody>\n",
       "    <tr>\n",
       "      <th>0</th>\n",
       "      <td>16-08-2024</td>\n",
       "      <td>Celta</td>\n",
       "      <td>2 - 1</td>\n",
       "      <td>Alaves</td>\n",
       "    </tr>\n",
       "    <tr>\n",
       "      <th>1</th>\n",
       "      <td>25-08-2024</td>\n",
       "      <td>Alaves</td>\n",
       "      <td>0 - 0</td>\n",
       "      <td>Betis</td>\n",
       "    </tr>\n",
       "    <tr>\n",
       "      <th>2</th>\n",
       "      <td>28-08-2024</td>\n",
       "      <td>Sociedad</td>\n",
       "      <td>1 - 2</td>\n",
       "      <td>Alaves</td>\n",
       "    </tr>\n",
       "    <tr>\n",
       "      <th>3</th>\n",
       "      <td>01-09-2024</td>\n",
       "      <td>Alaves</td>\n",
       "      <td>2 - 0</td>\n",
       "      <td>Las Palmas</td>\n",
       "    </tr>\n",
       "    <tr>\n",
       "      <th>4</th>\n",
       "      <td>14-09-2024</td>\n",
       "      <td>Espanol</td>\n",
       "      <td>3 - 2</td>\n",
       "      <td>Alaves</td>\n",
       "    </tr>\n",
       "    <tr>\n",
       "      <th>...</th>\n",
       "      <td>...</td>\n",
       "      <td>...</td>\n",
       "      <td>...</td>\n",
       "      <td>...</td>\n",
       "    </tr>\n",
       "    <tr>\n",
       "      <th>433</th>\n",
       "      <td>22-12-2024</td>\n",
       "      <td>Leganes</td>\n",
       "      <td>2 - 5</td>\n",
       "      <td>Villarreal</td>\n",
       "    </tr>\n",
       "    <tr>\n",
       "      <th>434</th>\n",
       "      <td>13-01-2025</td>\n",
       "      <td>Sociedad</td>\n",
       "      <td>1 - 0</td>\n",
       "      <td>Villarreal</td>\n",
       "    </tr>\n",
       "    <tr>\n",
       "      <th>435</th>\n",
       "      <td>20-01-2025</td>\n",
       "      <td>Villarreal</td>\n",
       "      <td>4 - 0</td>\n",
       "      <td>Mallorca</td>\n",
       "    </tr>\n",
       "    <tr>\n",
       "      <th>436</th>\n",
       "      <td>25-01-2025</td>\n",
       "      <td>Ath Madrid</td>\n",
       "      <td>? - ?</td>\n",
       "      <td>Villarreal</td>\n",
       "    </tr>\n",
       "    <tr>\n",
       "      <th>437</th>\n",
       "      <td>Next match O/U 2.5 odds vs Ath Madrid\\n1.80</td>\n",
       "      <td>None</td>\n",
       "      <td>None</td>\n",
       "      <td>None</td>\n",
       "    </tr>\n",
       "  </tbody>\n",
       "</table>\n",
       "<p>438 rows × 4 columns</p>\n",
       "</div>"
      ],
      "text/plain": [
       "                                            date   home_team result  \\\n",
       "0                                     16-08-2024       Celta  2 - 1   \n",
       "1                                     25-08-2024      Alaves  0 - 0   \n",
       "2                                     28-08-2024    Sociedad  1 - 2   \n",
       "3                                     01-09-2024      Alaves  2 - 0   \n",
       "4                                     14-09-2024     Espanol  3 - 2   \n",
       "..                                           ...         ...    ...   \n",
       "433                                   22-12-2024     Leganes  2 - 5   \n",
       "434                                   13-01-2025    Sociedad  1 - 0   \n",
       "435                                   20-01-2025  Villarreal  4 - 0   \n",
       "436                                   25-01-2025  Ath Madrid  ? - ?   \n",
       "437  Next match O/U 2.5 odds vs Ath Madrid\\n1.80        None   None   \n",
       "\n",
       "      away_team  \n",
       "0        Alaves  \n",
       "1         Betis  \n",
       "2        Alaves  \n",
       "3    Las Palmas  \n",
       "4        Alaves  \n",
       "..          ...  \n",
       "433  Villarreal  \n",
       "434  Villarreal  \n",
       "435    Mallorca  \n",
       "436  Villarreal  \n",
       "437        None  \n",
       "\n",
       "[438 rows x 4 columns]"
      ]
     },
     "execution_count": 13,
     "metadata": {},
     "output_type": "execute_result"
    }
   ],
   "source": [
    "data = {\n",
    "    'date': date, \n",
    "    'home_team': home_team,\n",
    "    'result': result,\n",
    "    'away_team': away_team\n",
    "}\n",
    "\n",
    "df = pd.DataFrame(data)\n",
    "df"
   ]
  },
  {
   "cell_type": "code",
   "execution_count": 14,
   "metadata": {},
   "outputs": [
    {
     "data": {
      "text/plain": [
       "date          0\n",
       "home_team    28\n",
       "result       28\n",
       "away_team    28\n",
       "dtype: int64"
      ]
     },
     "execution_count": 14,
     "metadata": {},
     "output_type": "execute_result"
    }
   ],
   "source": [
    "df.isna().sum()"
   ]
  },
  {
   "cell_type": "code",
   "execution_count": 15,
   "metadata": {},
   "outputs": [],
   "source": [
    "# Close driver instance\n",
    "driver.quit()"
   ]
  },
  {
   "cell_type": "markdown",
   "metadata": {},
   "source": [
    "## Dealing With Pagination"
   ]
  },
  {
   "cell_type": "code",
   "execution_count": 100,
   "metadata": {},
   "outputs": [],
   "source": [
    "product_selector = './/li[contains(@class, \"productListItem\")]'"
   ]
  },
  {
   "cell_type": "code",
   "execution_count": 101,
   "metadata": {},
   "outputs": [],
   "source": [
    "# Create an instance of ChromeOptions\n",
    "options = Options()\n",
    "options.add_argument(\"--headless\")\n",
    "\n",
    "# Pass the options to the Chrome driver\n",
    "driver = webdriver.Chrome(service=Service(driver_path), options=options)"
   ]
  },
  {
   "cell_type": "code",
   "execution_count": 104,
   "metadata": {},
   "outputs": [],
   "source": [
    "web = \"https://www.audible.com/search\"\n",
    "driver.get(web)"
   ]
  },
  {
   "cell_type": "code",
   "execution_count": 105,
   "metadata": {},
   "outputs": [],
   "source": [
    "driver.maximize_window()"
   ]
  },
  {
   "cell_type": "code",
   "execution_count": 113,
   "metadata": {},
   "outputs": [
    {
     "data": {
      "text/plain": [
       "25"
      ]
     },
     "execution_count": 113,
     "metadata": {},
     "output_type": "execute_result"
    }
   ],
   "source": [
    "# getting all pages\n",
    "paginator = driver.find_element(By.XPATH, '//ul[contains(@class, \"pagingElements\")]')\n",
    "pages = paginator.find_elements(By.TAG_NAME, 'li')\n",
    "last_page = int(pages[-2].text)\n",
    "last_page"
   ]
  },
  {
   "cell_type": "code",
   "execution_count": 114,
   "metadata": {},
   "outputs": [],
   "source": [
    "# automate page navigation\n"
   ]
  },
  {
   "cell_type": "code",
   "execution_count": 107,
   "metadata": {},
   "outputs": [],
   "source": [
    "container = driver.find_element(By.CLASS_NAME, 'adbl-impression-container')\n",
    "products = container.find_elements(By.XPATH, product_selector)"
   ]
  },
  {
   "cell_type": "code",
   "execution_count": 115,
   "metadata": {},
   "outputs": [],
   "source": [
    "title = []\n",
    "subtitle = []\n",
    "author = []\n",
    "length = []\n",
    "language = []\n",
    "url = []\n",
    "release_date = []\n",
    "\n",
    "current_page = 1 \n",
    "\n",
    "while current_page <= last_page:\n",
    "    time.sleep(3) # implicit wait\n",
    "    for product in products:\n",
    "        title.append(catch_element_error(product, By.XPATH, \".//h3[contains(@class, 'bc-heading')]/a\"))\n",
    "        subtitle.append(catch_element_error(product, By.XPATH, \".//li[contains(@class, 'subtitle')]\"))\n",
    "        author.append(catch_element_error(product, By.XPATH, \".//li[contains(@class, 'authorLabel')]\"))\n",
    "        length.append(catch_element_error(product, By.XPATH, \".//li[contains(@class, 'runtimeLabel')]\"))\n",
    "        release_date.append(catch_element_error(product, By.XPATH, \".//li[contains(@class, 'releaseDateLabel')]\"))\n",
    "        language.append(catch_element_error(product, By.XPATH, \".//li[contains(@class, 'languageLabel')]\"))\n",
    "        url.append(catch_element_error(product, By.XPATH, \".//h3[contains(@class, 'bc-heading')]/a\", link=True))\n",
    "    current_page += 1\n",
    "    try:\n",
    "        next_page = driver.find_element(By.XPATH, '//span[contains(@class, \"nextButton\")]')\n",
    "        next_page.click()\n",
    "    except: \n",
    "        pass\n",
    "    "
   ]
  },
  {
   "cell_type": "code",
   "execution_count": 116,
   "metadata": {},
   "outputs": [],
   "source": [
    "data = {\n",
    "    'title': title,\n",
    "    'subtitle': subtitle,\n",
    "    'author': author,\n",
    "    'length': length,\n",
    "    'language': language,\n",
    "    'release_date': release_date,\n",
    "    'url': url\n",
    "}"
   ]
  },
  {
   "cell_type": "code",
   "execution_count": 117,
   "metadata": {},
   "outputs": [],
   "source": [
    "df = pd.DataFrame(data)"
   ]
  },
  {
   "cell_type": "code",
   "execution_count": 118,
   "metadata": {},
   "outputs": [
    {
     "data": {
      "text/html": [
       "<div>\n",
       "<style scoped>\n",
       "    .dataframe tbody tr th:only-of-type {\n",
       "        vertical-align: middle;\n",
       "    }\n",
       "\n",
       "    .dataframe tbody tr th {\n",
       "        vertical-align: top;\n",
       "    }\n",
       "\n",
       "    .dataframe thead th {\n",
       "        text-align: right;\n",
       "    }\n",
       "</style>\n",
       "<table border=\"1\" class=\"dataframe\">\n",
       "  <thead>\n",
       "    <tr style=\"text-align: right;\">\n",
       "      <th></th>\n",
       "      <th>title</th>\n",
       "      <th>subtitle</th>\n",
       "      <th>author</th>\n",
       "      <th>length</th>\n",
       "      <th>language</th>\n",
       "      <th>release_date</th>\n",
       "      <th>url</th>\n",
       "    </tr>\n",
       "  </thead>\n",
       "  <tbody>\n",
       "    <tr>\n",
       "      <th>0</th>\n",
       "      <td>The King's Captive: Magiford Supernatural City</td>\n",
       "      <td>Gate of Myth and Power, Book 1</td>\n",
       "      <td>By: K. M. Shea</td>\n",
       "      <td>Length: 9 hrs and 43 mins</td>\n",
       "      <td>Language: English</td>\n",
       "      <td>Release date: 01-24-25</td>\n",
       "      <td>https://www.audible.com/pd/The-Kings-Captive-M...</td>\n",
       "    </tr>\n",
       "    <tr>\n",
       "      <th>1</th>\n",
       "      <td>Shadow Heart</td>\n",
       "      <td>Cursed Legacies, Book 2</td>\n",
       "      <td>By: Morgan B Lee</td>\n",
       "      <td>Length: 13 hrs and 12 mins</td>\n",
       "      <td>Language: English</td>\n",
       "      <td>Release date: 01-24-25</td>\n",
       "      <td>https://www.audible.com/pd/Shadow-Heart-Audiob...</td>\n",
       "    </tr>\n",
       "    <tr>\n",
       "      <th>2</th>\n",
       "      <td>A Shot to Kill</td>\n",
       "      <td>Blake Wilder FBI Mystery Thriller, Book 26</td>\n",
       "      <td>By: Elle Gray</td>\n",
       "      <td>Length: 7 hrs and 31 mins</td>\n",
       "      <td>Language: English</td>\n",
       "      <td>Release date: 01-22-25</td>\n",
       "      <td>https://www.audible.com/pd/A-Shot-to-Kill-Audi...</td>\n",
       "    </tr>\n",
       "    <tr>\n",
       "      <th>3</th>\n",
       "      <td>Charlotte's Reject</td>\n",
       "      <td>None</td>\n",
       "      <td>By: K. R. Treadway</td>\n",
       "      <td>Length: 11 hrs and 38 mins</td>\n",
       "      <td>Language: English</td>\n",
       "      <td>Release date: 01-22-25</td>\n",
       "      <td>https://www.audible.com/pd/Charlottes-Reject-A...</td>\n",
       "    </tr>\n",
       "    <tr>\n",
       "      <th>4</th>\n",
       "      <td>The Runic Artist: Painted Path</td>\n",
       "      <td>None</td>\n",
       "      <td>By: Ellake</td>\n",
       "      <td>Length: 17 hrs and 54 mins</td>\n",
       "      <td>Language: English</td>\n",
       "      <td>Release date: 01-22-25</td>\n",
       "      <td>https://www.audible.com/pd/The-Runic-Artist-Pa...</td>\n",
       "    </tr>\n",
       "  </tbody>\n",
       "</table>\n",
       "</div>"
      ],
      "text/plain": [
       "                                            title  \\\n",
       "0  The King's Captive: Magiford Supernatural City   \n",
       "1                                    Shadow Heart   \n",
       "2                                  A Shot to Kill   \n",
       "3                              Charlotte's Reject   \n",
       "4                  The Runic Artist: Painted Path   \n",
       "\n",
       "                                     subtitle              author  \\\n",
       "0              Gate of Myth and Power, Book 1      By: K. M. Shea   \n",
       "1                     Cursed Legacies, Book 2    By: Morgan B Lee   \n",
       "2  Blake Wilder FBI Mystery Thriller, Book 26       By: Elle Gray   \n",
       "3                                        None  By: K. R. Treadway   \n",
       "4                                        None          By: Ellake   \n",
       "\n",
       "                       length           language            release_date  \\\n",
       "0   Length: 9 hrs and 43 mins  Language: English  Release date: 01-24-25   \n",
       "1  Length: 13 hrs and 12 mins  Language: English  Release date: 01-24-25   \n",
       "2   Length: 7 hrs and 31 mins  Language: English  Release date: 01-22-25   \n",
       "3  Length: 11 hrs and 38 mins  Language: English  Release date: 01-22-25   \n",
       "4  Length: 17 hrs and 54 mins  Language: English  Release date: 01-22-25   \n",
       "\n",
       "                                                 url  \n",
       "0  https://www.audible.com/pd/The-Kings-Captive-M...  \n",
       "1  https://www.audible.com/pd/Shadow-Heart-Audiob...  \n",
       "2  https://www.audible.com/pd/A-Shot-to-Kill-Audi...  \n",
       "3  https://www.audible.com/pd/Charlottes-Reject-A...  \n",
       "4  https://www.audible.com/pd/The-Runic-Artist-Pa...  "
      ]
     },
     "execution_count": 118,
     "metadata": {},
     "output_type": "execute_result"
    }
   ],
   "source": [
    "df.head()"
   ]
  },
  {
   "cell_type": "code",
   "execution_count": 120,
   "metadata": {},
   "outputs": [
    {
     "data": {
      "text/plain": [
       "(500, 7)"
      ]
     },
     "execution_count": 120,
     "metadata": {},
     "output_type": "execute_result"
    }
   ],
   "source": [
    "df.shape"
   ]
  },
  {
   "cell_type": "markdown",
   "metadata": {},
   "source": [
    "## Working With Explicit Waits"
   ]
  },
  {
   "cell_type": "code",
   "execution_count": null,
   "metadata": {},
   "outputs": [],
   "source": []
  },
  {
   "cell_type": "code",
   "execution_count": 96,
   "metadata": {},
   "outputs": [],
   "source": [
    "#driver.quit()"
   ]
  }
 ],
 "metadata": {
  "kernelspec": {
   "display_name": "scrape-env",
   "language": "python",
   "name": "python3"
  },
  "language_info": {
   "codemirror_mode": {
    "name": "ipython",
    "version": 3
   },
   "file_extension": ".py",
   "mimetype": "text/x-python",
   "name": "python",
   "nbconvert_exporter": "python",
   "pygments_lexer": "ipython3",
   "version": "3.13.1"
  }
 },
 "nbformat": 4,
 "nbformat_minor": 2
}

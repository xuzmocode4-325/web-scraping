{
 "cells": [
  {
   "cell_type": "code",
   "execution_count": 1,
   "id": "dca98091",
   "metadata": {},
   "outputs": [],
   "source": [
    "import os\n",
    "import re\n",
    "import time\n",
    "import random\n",
    "import numpy as np\n",
    "import pandas as pd\n",
    "from selenium import webdriver\n",
    "from selenium.webdriver.support.ui import WebDriverWait\n",
    "from selenium.webdriver.chrome.options import Options\n",
    "from selenium.webdriver.chrome.service import Service \n",
    "from selenium.webdriver.support import expected_conditions \n",
    "from selenium.webdriver.common.by import By\n",
    "from selenium.webdriver.common.keys import Keys\n",
    "\n",
    "\n",
    "web = 'https://x.com/'\n",
    "driver_path = '/opt/homebrew/bin/chromedriver'\n",
    "\n",
    "chrome_options = Options()\n",
    "#chrome_options.add_argument('--headless=new')\n",
    "# chrome_options.add_argument('--window-size=1080,1920') # Needed for the PNG capture\n",
    "driver = webdriver.Chrome(service=Service(driver_path), options=chrome_options)\n",
    "\n",
    "driver.get(web)\n",
    "driver.maximize_window()"
   ]
  },
  {
   "cell_type": "code",
   "execution_count": 2,
   "id": "56c0bd2d",
   "metadata": {},
   "outputs": [],
   "source": [
    "login_button = WebDriverWait(driver, 5).until(\n",
    "    expected_conditions.presence_of_all_elements_located(\n",
    "       ( By.XPATH, \"//a[@data-testid='loginButton']\")\n",
    "    )\n",
    ")\n",
    "\n",
    "login_button[0].click()\n"
   ]
  },
  {
   "cell_type": "code",
   "execution_count": 3,
   "id": "9fa618cc",
   "metadata": {},
   "outputs": [],
   "source": [
    "username_field = WebDriverWait(driver, 5).until(\n",
    "    expected_conditions.presence_of_all_elements_located(\n",
    "       (By.XPATH, \"//input[@name='text']\")\n",
    "    )\n",
    ")\n",
    "\n",
    "username_field[0].send_keys(os.environ.get('TWITTER_USER'))"
   ]
  },
  {
   "cell_type": "code",
   "execution_count": 4,
   "id": "5f27482a",
   "metadata": {},
   "outputs": [],
   "source": [
    "next_button = WebDriverWait(driver, 5).until(\n",
    "    expected_conditions.presence_of_all_elements_located(\n",
    "       (By.XPATH, \"//button[2]\")\n",
    "    )\n",
    ")\n",
    "\n",
    "next_button[0].click()\n"
   ]
  },
  {
   "cell_type": "code",
   "execution_count": 5,
   "id": "297bef2f",
   "metadata": {},
   "outputs": [],
   "source": [
    "password_field = WebDriverWait(driver, 5).until(\n",
    "    expected_conditions.presence_of_all_elements_located(\n",
    "       (By.XPATH, \"//input[@name='password']\")\n",
    "    )\n",
    ")\n",
    "\n",
    "password_field[0].send_keys(os.environ.get('TWITTER_PASS'))"
   ]
  },
  {
   "cell_type": "code",
   "execution_count": 6,
   "id": "9c97f0c6",
   "metadata": {},
   "outputs": [],
   "source": [
    "last_login_button = WebDriverWait(driver, 5).until(\n",
    "    expected_conditions.presence_of_all_elements_located(\n",
    "        (By.XPATH, \"//button[@data-testid='LoginForm_Login_Button']\")\n",
    "    )\n",
    ")\n",
    "\n",
    "last_login_button[0].click()"
   ]
  },
  {
   "cell_type": "code",
   "execution_count": 7,
   "id": "e924f55d",
   "metadata": {},
   "outputs": [],
   "source": [
    "search_input = WebDriverWait(driver, 5).until(\n",
    "    expected_conditions.presence_of_all_elements_located(\n",
    "        (By.XPATH, \"//input[@data-testid='SearchBox_Search_Input']\")\n",
    "    )\n",
    ")\n",
    "\n",
    "\n",
    "search_input[0].send_keys(\"Python\")"
   ]
  },
  {
   "cell_type": "code",
   "execution_count": 8,
   "id": "6fbaab36",
   "metadata": {},
   "outputs": [],
   "source": [
    "\n",
    "search_input[0].send_keys(Keys.RETURN)\n"
   ]
  },
  {
   "cell_type": "code",
   "execution_count": 9,
   "id": "8afeb08f",
   "metadata": {},
   "outputs": [],
   "source": [
    "def get_tweet(element):\n",
    "    try: \n",
    "        user = tweet.find_element(By.XPATH, \".//div[@data-testid='User-Name']//span[contains(text(), '@')]\").text\n",
    "        text = tweet.find_element(By.XPATH, \".//div[@data-testid='tweetText']\").text\n",
    "        tweets_data = [user, \" \".join(text.split())]\n",
    "    except:\n",
    "        tweets_data = ['', '']\n",
    "    return tweets_data"
   ]
  },
  {
   "cell_type": "code",
   "execution_count": null,
   "id": "118c35c7",
   "metadata": {},
   "outputs": [
    {
     "ename": "KeyboardInterrupt",
     "evalue": "",
     "output_type": "error",
     "traceback": [
      "\u001b[0;31m---------------------------------------------------------------------------\u001b[0m",
      "\u001b[0;31mKeyboardInterrupt\u001b[0m                         Traceback (most recent call last)",
      "Cell \u001b[0;32mIn[11], line 27\u001b[0m\n\u001b[1;32m     24\u001b[0m         data[\u001b[38;5;124m'\u001b[39m\u001b[38;5;124murls\u001b[39m\u001b[38;5;124m'\u001b[39m]\u001b[38;5;241m.\u001b[39mappend(re\u001b[38;5;241m.\u001b[39mfindall(\u001b[38;5;124mr\u001b[39m\u001b[38;5;124m'\u001b[39m\u001b[38;5;124mhttps?://\u001b[39m\u001b[38;5;124m\\\u001b[39m\u001b[38;5;124mS+\u001b[39m\u001b[38;5;124m'\u001b[39m, tweet_list[\u001b[38;5;241m1\u001b[39m]))\n\u001b[1;32m     26\u001b[0m random_number \u001b[38;5;241m=\u001b[39m random\u001b[38;5;241m.\u001b[39muniform(\u001b[38;5;241m1.0\u001b[39m, \u001b[38;5;241m5.0\u001b[39m)\n\u001b[0;32m---> 27\u001b[0m \u001b[43mtime\u001b[49m\u001b[38;5;241;43m.\u001b[39;49m\u001b[43msleep\u001b[49m\u001b[43m(\u001b[49m\u001b[43mrandom_number\u001b[49m\u001b[43m)\u001b[49m\n\u001b[1;32m     28\u001b[0m driver\u001b[38;5;241m.\u001b[39mexecute_script(\u001b[38;5;124m\"\u001b[39m\u001b[38;5;124mwindow.scrollTo(0, document.body.scrollHeight);\u001b[39m\u001b[38;5;124m\"\u001b[39m)\n\u001b[1;32m     29\u001b[0m new_height \u001b[38;5;241m=\u001b[39m driver\u001b[38;5;241m.\u001b[39mexecute_script(\u001b[38;5;124m\"\u001b[39m\u001b[38;5;124mreturn document.body.scrollHeight\u001b[39m\u001b[38;5;124m\"\u001b[39m)\n",
      "\u001b[0;31mKeyboardInterrupt\u001b[0m: "
     ]
    }
   ],
   "source": [
    "tweet_ids = set()\n",
    "data = {\n",
    "    'username': [],\n",
    "    'text': [],\n",
    "    'urls': [],\n",
    "}\n",
    "\n",
    "\n",
    "current_height = 0\n",
    "scrolling = True\n",
    "while scrolling and len(tweet_ids) < 1000:\n",
    "    tweets =  WebDriverWait(driver, 5).until(\n",
    "        expected_conditions.presence_of_all_elements_located(\n",
    "            (By.XPATH, \"//article[@data-testid='tweet']\")\n",
    "        )\n",
    "    )\n",
    "    for tweet in tweets:\n",
    "        tweet_list = get_tweet(tweet)\n",
    "        tweet_id = ''.join(tweet_list)\n",
    "        if tweet_id not in tweet_ids:     \n",
    "            tweet_ids.add(tweet_id)   \n",
    "            data['username'].append(tweet_list[0])\n",
    "            data['text'].append(tweet_list[1])\n",
    "            data['urls'].append(re.findall(r'https?://\\S+', tweet_list[1]))\n",
    "            \n",
    "    random_number = random.uniform(1.0, 5.0)\n",
    "    time.sleep(random_number)\n",
    "    driver.execute_script(\"window.scrollTo(0, document.body.scrollHeight);\")\n",
    "    new_height = driver.execute_script(\"return document.body.scrollHeight\")\n",
    "    if new_height == current_height:\n",
    "        break\n",
    "    current_height = new_height\n",
    "\n",
    "driver.quit()\n"
   ]
  },
  {
   "cell_type": "code",
   "execution_count": 12,
   "id": "05c56594",
   "metadata": {},
   "outputs": [],
   "source": [
    "\n",
    "df_tweets = pd.DataFrame(data)"
   ]
  },
  {
   "cell_type": "code",
   "execution_count": 13,
   "id": "5b084b8f",
   "metadata": {},
   "outputs": [
    {
     "data": {
      "text/plain": [
       "(157, 3)"
      ]
     },
     "execution_count": 13,
     "metadata": {},
     "output_type": "execute_result"
    }
   ],
   "source": [
    "df_tweets.shape"
   ]
  },
  {
   "cell_type": "code",
   "execution_count": 14,
   "id": "d08a43f1",
   "metadata": {},
   "outputs": [
    {
     "data": {
      "text/plain": [
       "[[],\n",
       " [],\n",
       " [],\n",
       " [],\n",
       " [],\n",
       " [],\n",
       " [],\n",
       " [],\n",
       " [],\n",
       " ['https://mltut.com/best-advanced-machine-learning-courses/…'],\n",
       " [],\n",
       " [],\n",
       " [],\n",
       " [],\n",
       " ['https://packtpub.com/en-us/product/graph-data-modeling-in-python-9781804618035?utm_medium=affiliate&utm_campaign=e1397f0b-52c9-8731-1019-60b63c72c74a&utm_term=5b056f65-afab-5c56-1f0a-5fd88167b4b5&utm_content=B19141…'],\n",
       " [],\n",
       " ['https://packtpub.com/en-us/product/extending-power-bi-with-python-and-r-9781837639533?utm_medium=affiliate&utm_campaign=e1397f0b-52c9-8731-1019-60b63c72c74a&utm_term=5b056f65-afab-5c56-1f0a-5fd88167b4b5&utm_content=B19551…'],\n",
       " ['http://bit.ly/31x9U14', 'http://amzn.to/3KFVOjG'],\n",
       " ['http://bit.ly/4fhdxO9'],\n",
       " [],\n",
       " [],\n",
       " [],\n",
       " ['https://mltut.com/best-free-online-courses-for-machine-learning-and-ai/…'],\n",
       " ['https://packtpub.com/en-us/product/python-data-cleaning-and-preparation-best-practices-9781837634743?utm_medium=affiliate&utm_campaign=e1397f0b-52c9-8731-1019-60b63c72c74a&utm_term=5b056f65-afab-5c56-1f0a-5fd88167b4b5&utm_content=B19801…'],\n",
       " [],\n",
       " [],\n",
       " ['https://packtpub.com/en-us/product/machine-learning-engineering-with-python-9781837631964?utm_medium=affiliate&utm_campaign=e1397f0b-52c9-8731-1019-60b63c72c74a&utm_term=5b056f65-afab-5c56-1f0a-5fd88167b4b5&utm_content=B17343…'],\n",
       " [],\n",
       " [],\n",
       " [],\n",
       " ['https://geni.us/Must-Read-Learners…'],\n",
       " [],\n",
       " ['https://freecodecamp.org/news/work-with-sqlite-in-python-handbook/…'],\n",
       " [],\n",
       " [],\n",
       " [],\n",
       " ['https://amzn.to/4mFVnK0'],\n",
       " [],\n",
       " [],\n",
       " [],\n",
       " ['https://bit.ly/4eOl06t'],\n",
       " ['https://amzn.to/3ZgdLz4'],\n",
       " [],\n",
       " ['https://geni.us/DSci-Improve-Skills…'],\n",
       " [],\n",
       " [],\n",
       " ['https://imp.i384100.net/5gmXXo',\n",
       "  'https://edx.org/learn/relational-databases/stanford-university-databases-relational-databases-and-sql…',\n",
       "  'https://edx.org/learn/r-programming/harvard-university-statistics-and-r…',\n",
       "  'https://edx.org/learn/r-programming/harvard-university-data-science-r-basics…',\n",
       "  'https://learn.microsoft.com/en-gb/training/paths/modern-analytics/…',\n",
       "  'https://pic.x.com/87ueYzoUao'],\n",
       " ['https://amzn.to/43Uk7Xz'],\n",
       " [],\n",
       " [],\n",
       " [],\n",
       " ['https://packtpub.com/en-us/product/python-machine-learning-by-example-9781835085622?utm_medium=affiliate&utm_campaign=e1397f0b-52c9-8731-1019-60b63c72c74a&utm_term=5b056f65-afab-5c56-1f0a-5fd88167b4b5&utm_content=B21047…',\n",
       "  'https://github.com/PacktPublishing/Python-Machine-Learning-By-Example-Third-Edition…'],\n",
       " [],\n",
       " ['https://pythonclcoding.gumroad.com/l/chqcp'],\n",
       " [],\n",
       " ['https://simplilearn.com/learn-git-basics-skillup…',\n",
       "  'https://mygreatlearning.com/academy/learn-for-free/courses/python-fundamentals-for-beginners…',\n",
       "  'https://cognitiveclass.ai/courses/learn-sql-relational-databases…',\n",
       "  'https://mygreatlearning.com/academy/learn-for-free/courses/data-structures-and-algorithms-in-java…',\n",
       "  'https://openclassrooms.com/en/courses/5667431-learn-programming-with-java…',\n",
       "  'https://openclassrooms.com/en/courses/5664271-learn-programming-with-javascript…',\n",
       "  'https://alison.com/course/c-programming-introduction…'],\n",
       " ['https://pythonclcoding.gumroad.com/l/luqzrg'],\n",
       " ['https://realpython.com/courses/advanced-import-techniques/…'],\n",
       " ['https://clcoding.com/2025/05/machine-learning-basics.html…'],\n",
       " ['https://buff.ly/NeXMY1X'],\n",
       " ['https://geni.us/Best-Books-Artificial…'],\n",
       " ['https://developers.google.com/edu/python',\n",
       "  'http://learn.microsoft.com/en-us/training/modules/intro-to-python/…',\n",
       "  'https://udemy.com/course/pythonforbeginnersintro/…',\n",
       "  'https://coursera.org/learn/python',\n",
       "  'http://educative.io/courses/learn-python-3-from-scratch…'],\n",
       " ['https://geni.us/Probability-Bayesian…'],\n",
       " [],\n",
       " [],\n",
       " [],\n",
       " [],\n",
       " ['https://geni.us/Math-Paperbacks'],\n",
       " ['https://geni.us/DSci--Ch-Sheet'],\n",
       " [],\n",
       " ['https://pythonclcoding.gumroad.com/l/tdmnq'],\n",
       " ['https://freecodecamp.org/news/how-to-integrate-tailwind-with-django/…'],\n",
       " [],\n",
       " [],\n",
       " [],\n",
       " [],\n",
       " [],\n",
       " ['https://geni.us/Book-Age-of-AI'],\n",
       " ['https://stackoverflow.blog/2023/07/21/what-its-like-to-be-on-the-python-steering-council-ep-592/?utm_source=twitter&utm_medium=social&utm_campaign=so-podcast&utm_content=python-steering-council…'],\n",
       " [],\n",
       " [],\n",
       " [],\n",
       " [],\n",
       " [],\n",
       " [],\n",
       " [],\n",
       " [],\n",
       " ['https://realpython.com/replace-string-python/…'],\n",
       " [],\n",
       " ['https://clcoding.com/2025/05/fundamentals-of-robust-machine-learning.html…'],\n",
       " [],\n",
       " [],\n",
       " ['http://coursera.org/learn/statistics-for-data-science-python…'],\n",
       " [],\n",
       " [],\n",
       " [],\n",
       " [],\n",
       " [],\n",
       " [],\n",
       " ['https://geni.us/Bio-Inspired'],\n",
       " ['https://indeed.com/career-advice/interviewing/python-interview-questions?utm_source=partner&utm_medium=stackoverflow&utm_campaign=lsi…'],\n",
       " [],\n",
       " [],\n",
       " ['https://clcoding.com/2025/06/python-coding-challenge-day-537-what-is.html…'],\n",
       " ['https://zenn.dev/python_academia/books/6df147d8b82939…'],\n",
       " ['https://buff.ly/ZO4mHbi'],\n",
       " [],\n",
       " [],\n",
       " [],\n",
       " [],\n",
       " ['https://realpython.com/inherit-python-list/…'],\n",
       " [],\n",
       " ['https://realpython.com/courses/custom-vs-code-color-themes/…'],\n",
       " [],\n",
       " [],\n",
       " [],\n",
       " [],\n",
       " [],\n",
       " [],\n",
       " [],\n",
       " ['https://bit.ly/43kQr5S'],\n",
       " ['https://stackoverflow.blog/2023/09/21/mojo-the-usability-of-python-with-the-performance-of-c/?utm_source=twitter&utm_medium=social&utm_campaign=so-podcast&utm_content=mojo-ai-devs…'],\n",
       " ['https://amzn.to/4jAS6c7'],\n",
       " ['https://geni.us/Kafka-Guide'],\n",
       " [],\n",
       " ['https://geni.us/Best-Beginner-Expert…'],\n",
       " ['https://pythonclcoding.gumroad.com/l/dfunwe'],\n",
       " ['http://goo.gle/3EpZc4L'],\n",
       " ['https://geni.us/Important-Concept…'],\n",
       " [],\n",
       " ['https://geni.us/Graph-R-Learning…'],\n",
       " ['https://maxkasy.github.io/home/computationlinks/…'],\n",
       " ['https://towardsdatascience.com/building-a-modern-dashboard-with-python-and-gradio/…'],\n",
       " [],\n",
       " [],\n",
       " ['https://realpython.com/linear-regression-in-python/…'],\n",
       " ['https://geni.us/GitBook-Projects…'],\n",
       " [],\n",
       " ['https://geni.us/Best-Program-Update…'],\n",
       " [],\n",
       " [],\n",
       " ['https://gaussianprocess.org/gpml/', 'https://geni.us/50-Books-M-L'],\n",
       " ['https://geni.us/HTTPCheatSheet'],\n",
       " ['https://geni.us/Awesome-Ch-Sheets…'],\n",
       " ['https://github.com/cesc0sec/SecResearch…'],\n",
       " ['https://geni.us/Tensors--CompSci…'],\n",
       " [],\n",
       " [],\n",
       " [],\n",
       " [],\n",
       " [],\n",
       " [],\n",
       " [],\n",
       " [],\n",
       " ['http://edx.org/learn/python/harvard-university-cs50-s-introduction-to-programming-with-python…'],\n",
       " ['https://youtu.be/IpmUZlDpbtE?si=Tv6tR5nFPxyxvD3e…'],\n",
       " []]"
      ]
     },
     "execution_count": 14,
     "metadata": {},
     "output_type": "execute_result"
    }
   ],
   "source": [
    "list(df_tweets['urls'])"
   ]
  },
  {
   "cell_type": "code",
   "execution_count": null,
   "id": "e6668ddf",
   "metadata": {},
   "outputs": [
    {
     "ename": "ModuleNotFoundError",
     "evalue": "No module named 'wordcloud'",
     "output_type": "error",
     "traceback": [
      "\u001b[0;31m---------------------------------------------------------------------------\u001b[0m",
      "\u001b[0;31mModuleNotFoundError\u001b[0m                       Traceback (most recent call last)",
      "Cell \u001b[0;32mIn[24], line 1\u001b[0m\n\u001b[0;32m----> 1\u001b[0m \u001b[38;5;28;01mfrom\u001b[39;00m\u001b[38;5;250m \u001b[39m\u001b[38;5;21;01mwordcloud\u001b[39;00m\u001b[38;5;250m \u001b[39m\u001b[38;5;28;01mimport\u001b[39;00m WordCloud, STOPWORDS, ImageColorGenerator\n",
      "\u001b[0;31mModuleNotFoundError\u001b[0m: No module named 'wordcloud'"
     ]
    }
   ],
   "source": [
    "from wordcloud import WordCloud, STOPWORDS, ImageColorGenerator"
   ]
  },
  {
   "cell_type": "code",
   "execution_count": null,
   "id": "d9759a94",
   "metadata": {},
   "outputs": [],
   "source": [
    "text = df.description[0]\n",
    "\n",
    "# Create and generate a word cloud image:\n",
    "wordcloud = WordCloud().generate(text)\n",
    "\n",
    "# Display the generated image:\n",
    "plt.imshow(wordcloud, interpolation='bilinear')\n",
    "plt.axis(\"off\")\n",
    "plt.show()"
   ]
  }
 ],
 "metadata": {
  "kernelspec": {
   "display_name": "scrape-env",
   "language": "python",
   "name": "python3"
  },
  "language_info": {
   "codemirror_mode": {
    "name": "ipython",
    "version": 3
   },
   "file_extension": ".py",
   "mimetype": "text/x-python",
   "name": "python",
   "nbconvert_exporter": "python",
   "pygments_lexer": "ipython3",
   "version": "3.13.1"
  }
 },
 "nbformat": 4,
 "nbformat_minor": 5
}

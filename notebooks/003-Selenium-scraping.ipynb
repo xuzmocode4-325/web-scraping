{
 "cells": [
  {
   "cell_type": "markdown",
   "metadata": {},
   "source": [
    "# Selenium For Webscraping"
   ]
  },
  {
   "cell_type": "markdown",
   "metadata": {},
   "source": [
    "Designed for Test Automation of Web Applications. Slow. Ideal for Intermediate Level Tasks. "
   ]
  },
  {
   "cell_type": "code",
   "execution_count": 1,
   "metadata": {},
   "outputs": [],
   "source": [
    "import os\n",
    "import time\n",
    "import pandas as pd\n",
    "from pathlib import Path\n",
    "from selenium import webdriver\n",
    "from dotenv import load_dotenv\n",
    "from selenium.webdriver.common.by import By\n",
    "from selenium.webdriver.support import expected_conditions as ec\n",
    "from selenium.webdriver.support.ui import Select, WebDriverWait\n",
    "from selenium.webdriver.chrome.service import Service\n",
    "from selenium.webdriver.chrome.options import Options\n",
    "\n",
    "#path to chromedriver on the PC (Version must match installed version of Chrome)\n",
    "driver_path = '/opt/homebrew/bin/chromedriver'\n"
   ]
  },
  {
   "cell_type": "markdown",
   "metadata": {},
   "source": [
    "## Writing Custom Code To Handle Missing Values During Scraping"
   ]
  },
  {
   "cell_type": "code",
   "execution_count": 2,
   "metadata": {},
   "outputs": [],
   "source": [
    "def catch_element_error(root,by,selector, link=False):\n",
    "    if not link:\n",
    "        try: \n",
    "            return root.find_element(by, selector).text\n",
    "        except:\n",
    "            return None\n",
    "    else: \n",
    "        try: \n",
    "            return root.find_element(by, selector).get_attribute(\"href\")\n",
    "        except:\n",
    "            return None"
   ]
  },
  {
   "cell_type": "markdown",
   "metadata": {},
   "source": [
    "## Configuring The Driver"
   ]
  },
  {
   "cell_type": "code",
   "execution_count": 3,
   "metadata": {},
   "outputs": [],
   "source": [
    "# Create an instance of ChromeOptions\n",
    "options = Options()\n",
    "options.add_argument(\"--headless\")\n",
    "\n",
    "# Pass the options to the Chrome driver\n",
    "driver = webdriver.Chrome(service=Service(driver_path), options=options)"
   ]
  },
  {
   "cell_type": "code",
   "execution_count": 4,
   "metadata": {},
   "outputs": [],
   "source": [
    "# Get response from the website\n",
    "website = 'https://www.adamchoi.co.uk/overs/detailed'\n",
    "driver.get(website)"
   ]
  },
  {
   "cell_type": "markdown",
   "metadata": {},
   "source": [
    "## Finding Elements With Selenium"
   ]
  },
  {
   "cell_type": "markdown",
   "metadata": {},
   "source": [
    "1. Finding elements by id\n",
    "\n",
    "        singular - driver.find_element_by_id('id')\n",
    "        multiple - driver.find_elements_by_id('id')\n",
    "\n",
    "2. Finding elements by class name. \n",
    "\n",
    "        singular - driver.find_element_by_class_name('class_name')\n",
    "        multiple - driver.find_elements_by_class_name('class_name')\n",
    "\n",
    "3. Finding elements by tag name.\n",
    "\n",
    "        singular - driver.find_element_by_tag_name('tag_name')\n",
    "        multiple - driver.find_elements_by_tag_name('tag_name')\n",
    "\n",
    "4. Finding elements by XPath\n",
    "\n",
    "        singular - driver.find_element_by_xpath('xpath_expression')\n",
    "        multiple - driver.find_elements_by_xpath('xpath_expression')\n",
    "\n",
    "5. Finding elements by css selector\n",
    "\n",
    "        singular - driver.find_element_by_css_selector('css_selector')\n",
    "        multiple - driver.find_elements_by_css_selector('css_selector')\n",
    "\n",
    "6. Finding elements by name \n",
    "\n",
    "        singular - driver.find_element_by_name('name')\n",
    "        multiple - driver.find_elements_by_name('name')\n",
    "\n",
    "7. Finding elements by link text\n",
    "\n",
    "        singular - driver.find_element_by_link_text('link_text')\n",
    "        multiple - driver.find_elements_by_link_text('link_text')\n"
   ]
  },
  {
   "cell_type": "code",
   "execution_count": 5,
   "metadata": {},
   "outputs": [],
   "source": [
    "# interacting with JS web elements\n",
    "\n",
    "all_matches_button = driver.find_element(By.XPATH, '//label[@analytics-event=\"All matches\"]')\n",
    "all_matches_button.click()"
   ]
  },
  {
   "cell_type": "code",
   "execution_count": 6,
   "metadata": {},
   "outputs": [],
   "source": [
    "matches = driver.find_elements(By.TAG_NAME, 'tr')\n"
   ]
  },
  {
   "cell_type": "markdown",
   "metadata": {},
   "source": [
    "## Compiling Data Into A DataFrame "
   ]
  },
  {
   "cell_type": "code",
   "execution_count": 8,
   "metadata": {},
   "outputs": [],
   "source": [
    "date = []\n",
    "home_team = []\n",
    "result = []\n",
    "away_team = []\n",
    "\n",
    "for match in matches:\n",
    "    date.append(catch_element_error(match, By.XPATH, './td[1]'))\n",
    "    home_team.append(catch_element_error(match, By.XPATH, './td[3]'))\n",
    "    result.append(catch_element_error(match, By.XPATH, './td[4]'))\n",
    "    away_team.append(catch_element_error(match, By.XPATH, './td[5]'))"
   ]
  },
  {
   "cell_type": "code",
   "execution_count": null,
   "metadata": {},
   "outputs": [],
   "source": [
    "data = {\n",
    "    'date': date, \n",
    "    'home_team': home_team,\n",
    "    'result': result,\n",
    "    'away_team': away_team\n",
    "}\n",
    "\n",
    "df = pd.DataFrame(data)\n",
    "df"
   ]
  },
  {
   "cell_type": "code",
   "execution_count": null,
   "metadata": {},
   "outputs": [],
   "source": [
    "df.to_csv(Path.cwd().parent/'data'/'matches'/'EPL.csv')"
   ]
  },
  {
   "cell_type": "code",
   "execution_count": null,
   "metadata": {},
   "outputs": [],
   "source": [
    "df.isna().sum()"
   ]
  },
  {
   "cell_type": "markdown",
   "metadata": {},
   "source": [
    "## Selecting Elements Using Dropdowns"
   ]
  },
  {
   "cell_type": "code",
   "execution_count": 11,
   "metadata": {},
   "outputs": [],
   "source": [
    "dropdown = Select(driver.find_element(By.ID, 'country'))\n",
    "dropdown.select_by_visible_text('Spain')\n",
    "\n",
    "time.sleep(5)\n",
    "\n",
    "matches = driver.find_elements(By.TAG_NAME, 'tr')"
   ]
  },
  {
   "cell_type": "code",
   "execution_count": 12,
   "metadata": {},
   "outputs": [],
   "source": [
    "date = []\n",
    "home_team = []\n",
    "result = []\n",
    "away_team = []\n",
    "\n",
    "for match in matches:\n",
    "    date.append(catch_element_error(match, By.XPATH, './td[1]'))\n",
    "    home_team.append(catch_element_error(match, By.XPATH, './td[3]'))\n",
    "    result.append(catch_element_error(match, By.XPATH, './td[4]'))\n",
    "    away_team.append(catch_element_error(match, By.XPATH, './td[5]'))"
   ]
  },
  {
   "cell_type": "code",
   "execution_count": null,
   "metadata": {},
   "outputs": [],
   "source": [
    "data = {\n",
    "    'date': date, \n",
    "    'home_team': home_team,\n",
    "    'result': result,\n",
    "    'away_team': away_team\n",
    "}\n",
    "\n",
    "df = pd.DataFrame(data)\n",
    "df"
   ]
  },
  {
   "cell_type": "code",
   "execution_count": null,
   "metadata": {},
   "outputs": [],
   "source": [
    "df.to_csv(Path.cwd().parent/'data'/'matches'/'LaLiga.csv')"
   ]
  },
  {
   "cell_type": "code",
   "execution_count": null,
   "metadata": {},
   "outputs": [],
   "source": [
    "df.isna().sum()"
   ]
  },
  {
   "cell_type": "code",
   "execution_count": 15,
   "metadata": {},
   "outputs": [],
   "source": [
    "# Close driver instance\n",
    "driver.quit()"
   ]
  },
  {
   "cell_type": "markdown",
   "metadata": {},
   "source": [
    "## Dealing With Pagination"
   ]
  },
  {
   "cell_type": "code",
   "execution_count": 101,
   "metadata": {},
   "outputs": [],
   "source": [
    "# Create an instance of ChromeOptions\n",
    "options = Options()\n",
    "options.add_argument(\"--headless\")\n",
    "\n",
    "# Pass the options to the Chrome driver\n",
    "driver = webdriver.Chrome(service=Service(driver_path), options=options)"
   ]
  },
  {
   "cell_type": "code",
   "execution_count": 104,
   "metadata": {},
   "outputs": [],
   "source": [
    "\n",
    "web = \"https://www.audible.com/search\"\n",
    "driver.get(web)"
   ]
  },
  {
   "cell_type": "code",
   "execution_count": 105,
   "metadata": {},
   "outputs": [],
   "source": [
    "driver.maximize_window()"
   ]
  },
  {
   "cell_type": "code",
   "execution_count": null,
   "metadata": {},
   "outputs": [],
   "source": [
    "# getting all pages\n",
    "paginator = driver.find_element(By.XPATH, '//ul[contains(@class, \"pagingElements\")]')\n",
    "pages = paginator.find_elements(By.TAG_NAME, 'li')\n",
    "last_page = int(pages[-2].text)\n",
    "last_page"
   ]
  },
  {
   "cell_type": "code",
   "execution_count": 107,
   "metadata": {},
   "outputs": [],
   "source": [
    "product_selector = './/li[contains(@class, \"productListItem\")]'\n",
    "container = driver.find_element(By.CLASS_NAME, 'adbl-impression-container')\n",
    "products = container.find_elements(By.XPATH, product_selector)"
   ]
  },
  {
   "cell_type": "code",
   "execution_count": 115,
   "metadata": {},
   "outputs": [],
   "source": [
    "title = []\n",
    "subtitle = []\n",
    "author = []\n",
    "length = []\n",
    "language = []\n",
    "url = []\n",
    "release_date = []\n",
    "\n",
    "current_page = 1 \n",
    "\n",
    "while current_page <= last_page:\n",
    "    time.sleep(3) # implicit wait\n",
    "    for product in products:\n",
    "        title.append(catch_element_error(product, By.XPATH, \".//h3[contains(@class, 'bc-heading')]/a\"))\n",
    "        subtitle.append(catch_element_error(product, By.XPATH, \".//li[contains(@class, 'subtitle')]\"))\n",
    "        author.append(catch_element_error(product, By.XPATH, \".//li[contains(@class, 'authorLabel')]\"))\n",
    "        length.append(catch_element_error(product, By.XPATH, \".//li[contains(@class, 'runtimeLabel')]\"))\n",
    "        release_date.append(catch_element_error(product, By.XPATH, \".//li[contains(@class, 'releaseDateLabel')]\"))\n",
    "        language.append(catch_element_error(product, By.XPATH, \".//li[contains(@class, 'languageLabel')]\"))\n",
    "        url.append(catch_element_error(product, By.XPATH, \".//h3[contains(@class, 'bc-heading')]/a\", link=True))\n",
    "    current_page += 1\n",
    "    try:\n",
    "        next_page = driver.find_element(By.XPATH, '//span[contains(@class, \"nextButton\")]')\n",
    "        next_page.click()\n",
    "    except: \n",
    "        pass\n",
    "    "
   ]
  },
  {
   "cell_type": "code",
   "execution_count": 116,
   "metadata": {},
   "outputs": [],
   "source": [
    "data = {\n",
    "    'title': title,\n",
    "    'subtitle': subtitle,\n",
    "    'author': author,\n",
    "    'length': length,\n",
    "    'language': language,\n",
    "    'release_date': release_date,\n",
    "    'url': url\n",
    "}"
   ]
  },
  {
   "cell_type": "code",
   "execution_count": 117,
   "metadata": {},
   "outputs": [],
   "source": [
    "df = pd.DataFrame(data)"
   ]
  },
  {
   "cell_type": "code",
   "execution_count": null,
   "metadata": {},
   "outputs": [],
   "source": [
    "df.head()"
   ]
  },
  {
   "cell_type": "code",
   "execution_count": null,
   "metadata": {},
   "outputs": [],
   "source": [
    "df.to_csv(Path.cwd().parent/'data'/'books'/'MajorTitles.csv')"
   ]
  },
  {
   "cell_type": "code",
   "execution_count": null,
   "metadata": {},
   "outputs": [],
   "source": [
    "df.shape"
   ]
  },
  {
   "cell_type": "code",
   "execution_count": 121,
   "metadata": {},
   "outputs": [],
   "source": [
    "driver.close()"
   ]
  },
  {
   "cell_type": "markdown",
   "metadata": {},
   "source": [
    "## Working With Explicit Waits"
   ]
  },
  {
   "cell_type": "code",
   "execution_count": 3,
   "metadata": {},
   "outputs": [],
   "source": [
    "# Create an instance of ChromeOptions\n",
    "options = Options()\n",
    "options.add_argument(\"--headless\")\n",
    "\n",
    "# Pass the options to the Chrome driver\n",
    "driver = webdriver.Chrome(service=Service(driver_path), options=options)"
   ]
  },
  {
   "cell_type": "code",
   "execution_count": 4,
   "metadata": {},
   "outputs": [],
   "source": [
    "load_dotenv(Path.cwd().parent / '.env')\n",
    "web = os.environ.get('ENV_LINK')"
   ]
  },
  {
   "cell_type": "code",
   "execution_count": 5,
   "metadata": {},
   "outputs": [
    {
     "name": "stdout",
     "output_type": "stream",
     "text": [
      "https://www.audible.com/search?node=18573351011&ref_pageloadid=not_applicable&pf_rd_p=daf0f1c8-2865-4989-87fb-15115ba5a6d2&pf_rd_r=RG9WDH6A8G3HKV1HWGX0&plink=q4L5kdRIJSAxY9um&pageLoadId=4lRcejtapgJ27POW&creativeId=9648f6bf-4f29-4fb4-9489-33163c0bb63e&ref=a_search_l1_catRefs_7\n"
     ]
    }
   ],
   "source": [
    "print(web)"
   ]
  },
  {
   "cell_type": "code",
   "execution_count": 6,
   "metadata": {},
   "outputs": [],
   "source": [
    "driver.get(web)"
   ]
  },
  {
   "cell_type": "code",
   "execution_count": 7,
   "metadata": {},
   "outputs": [
    {
     "data": {
      "text/plain": [
       "25"
      ]
     },
     "execution_count": 7,
     "metadata": {},
     "output_type": "execute_result"
    }
   ],
   "source": [
    "paginator = driver.find_element(By.XPATH, '//ul[contains(@class, \"pagingElements\")]')\n",
    "pages = paginator.find_elements(By.TAG_NAME, 'li')\n",
    "last_page = int(pages[-2].text)\n",
    "last_page"
   ]
  },
  {
   "cell_type": "code",
   "execution_count": 8,
   "metadata": {},
   "outputs": [],
   "source": [
    "product_selector = './/li[contains(@class, \"productListItem\")]'\n"
   ]
  },
  {
   "cell_type": "code",
   "execution_count": 9,
   "metadata": {},
   "outputs": [],
   "source": [
    "title = []\n",
    "subtitle = []\n",
    "author = []\n",
    "length = []\n",
    "language = []\n",
    "url = []\n",
    "release_date = []\n",
    "\n",
    "current_page = 1\n",
    "\n",
    "while current_page <= last_page:\n",
    "    time.sleep(3) # implicit wait\n",
    "    container = WebDriverWait(driver, 10).until(ec.presence_of_element_located((By.CLASS_NAME, 'adbl-impression-container')))\n",
    "    products = WebDriverWait(driver, 10).until(ec.presence_of_all_elements_located((By.XPATH, product_selector)))\n",
    "    for product in products:\n",
    "        title.append(catch_element_error(product, By.XPATH, \".//h3[contains(@class, 'bc-heading')]/a\"))\n",
    "        subtitle.append(catch_element_error(product, By.XPATH, \".//li[contains(@class, 'subtitle')]\"))\n",
    "        author.append(catch_element_error(product, By.XPATH, \".//li[contains(@class, 'authorLabel')]\"))\n",
    "        length.append(catch_element_error(product, By.XPATH, \".//li[contains(@class, 'runtimeLabel')]\"))\n",
    "        release_date.append(catch_element_error(product, By.XPATH, \".//li[contains(@class, 'releaseDateLabel')]\"))\n",
    "        language.append(catch_element_error(product, By.XPATH, \".//li[contains(@class, 'languageLabel')]\"))\n",
    "        url.append(catch_element_error(product, By.XPATH, \".//h3[contains(@class, 'bc-heading')]/a\", link=True))\n",
    "    current_page += 1\n",
    "    try:\n",
    "        next_page = driver.find_element(By.XPATH, '//span[contains(@class, \"nextButton\")]')\n",
    "        next_page.click()\n",
    "    except: \n",
    "        \n",
    "        pass"
   ]
  },
  {
   "cell_type": "code",
   "execution_count": 14,
   "metadata": {},
   "outputs": [],
   "source": [
    "data = {\n",
    "    'title': title,\n",
    "    'subtitle': subtitle,\n",
    "    'author': author,\n",
    "    'length': length,\n",
    "    'language': language,\n",
    "    'release_date': release_date,\n",
    "    'url': url\n",
    "}"
   ]
  },
  {
   "cell_type": "code",
   "execution_count": 15,
   "metadata": {},
   "outputs": [],
   "source": [
    "df = pd.DataFrame(data)"
   ]
  },
  {
   "cell_type": "code",
   "execution_count": 16,
   "metadata": {},
   "outputs": [
    {
     "data": {
      "text/html": [
       "<div>\n",
       "<style scoped>\n",
       "    .dataframe tbody tr th:only-of-type {\n",
       "        vertical-align: middle;\n",
       "    }\n",
       "\n",
       "    .dataframe tbody tr th {\n",
       "        vertical-align: top;\n",
       "    }\n",
       "\n",
       "    .dataframe thead th {\n",
       "        text-align: right;\n",
       "    }\n",
       "</style>\n",
       "<table border=\"1\" class=\"dataframe\">\n",
       "  <thead>\n",
       "    <tr style=\"text-align: right;\">\n",
       "      <th></th>\n",
       "      <th>title</th>\n",
       "      <th>subtitle</th>\n",
       "      <th>author</th>\n",
       "      <th>length</th>\n",
       "      <th>language</th>\n",
       "      <th>release_date</th>\n",
       "      <th>url</th>\n",
       "    </tr>\n",
       "  </thead>\n",
       "  <tbody>\n",
       "    <tr>\n",
       "      <th>0</th>\n",
       "      <td>The Moon &amp; His Tides</td>\n",
       "      <td>Impossible Universe Trilogy, Book 1</td>\n",
       "      <td>By: Giana Darling</td>\n",
       "      <td>Length: 10 hrs and 59 mins</td>\n",
       "      <td>Language: English</td>\n",
       "      <td>Release date: 01-23-25</td>\n",
       "      <td>https://www.audible.com/ac/The-Moon-His-Tides-...</td>\n",
       "    </tr>\n",
       "    <tr>\n",
       "      <th>1</th>\n",
       "      <td>Caught Up</td>\n",
       "      <td>Into Darkness, Book 2</td>\n",
       "      <td>By: Navessa Allen</td>\n",
       "      <td>Length: Not Yet Known</td>\n",
       "      <td>Language: English</td>\n",
       "      <td>Release date: 06-10-25</td>\n",
       "      <td>https://www.audible.com/ac/Caught-Up-Audiobook...</td>\n",
       "    </tr>\n",
       "    <tr>\n",
       "      <th>2</th>\n",
       "      <td>Madness</td>\n",
       "      <td>None</td>\n",
       "      <td>By: Shantel Tessier</td>\n",
       "      <td>Length: 23 hrs and 33 mins</td>\n",
       "      <td>Language: English</td>\n",
       "      <td>Release date: 12-14-24</td>\n",
       "      <td>https://www.audible.com/ac/Madness-Audiobook/B...</td>\n",
       "    </tr>\n",
       "    <tr>\n",
       "      <th>3</th>\n",
       "      <td>Inner Voice</td>\n",
       "      <td>I Heard the Inner Voice of My Childhood Friend</td>\n",
       "      <td>By: Aine McCuin</td>\n",
       "      <td>Length: 57 mins</td>\n",
       "      <td>Language: English</td>\n",
       "      <td>Release date: 12-16-24</td>\n",
       "      <td>https://www.audible.com/ac/Inner-Voice-Audiobo...</td>\n",
       "    </tr>\n",
       "    <tr>\n",
       "      <th>4</th>\n",
       "      <td>Sabotage</td>\n",
       "      <td>A Dark Enemies to Lovers Romance</td>\n",
       "      <td>By: Shantel Tessier</td>\n",
       "      <td>Length: 7 hrs and 12 mins</td>\n",
       "      <td>Language: English</td>\n",
       "      <td>Release date: 01-02-25</td>\n",
       "      <td>https://www.audible.com/ac/Sabotage-Audiobook/...</td>\n",
       "    </tr>\n",
       "  </tbody>\n",
       "</table>\n",
       "</div>"
      ],
      "text/plain": [
       "                  title                                        subtitle  \\\n",
       "0  The Moon & His Tides             Impossible Universe Trilogy, Book 1   \n",
       "1             Caught Up                           Into Darkness, Book 2   \n",
       "2               Madness                                            None   \n",
       "3           Inner Voice  I Heard the Inner Voice of My Childhood Friend   \n",
       "4              Sabotage                A Dark Enemies to Lovers Romance   \n",
       "\n",
       "                author                      length           language  \\\n",
       "0    By: Giana Darling  Length: 10 hrs and 59 mins  Language: English   \n",
       "1    By: Navessa Allen       Length: Not Yet Known  Language: English   \n",
       "2  By: Shantel Tessier  Length: 23 hrs and 33 mins  Language: English   \n",
       "3      By: Aine McCuin             Length: 57 mins  Language: English   \n",
       "4  By: Shantel Tessier   Length: 7 hrs and 12 mins  Language: English   \n",
       "\n",
       "             release_date                                                url  \n",
       "0  Release date: 01-23-25  https://www.audible.com/ac/The-Moon-His-Tides-...  \n",
       "1  Release date: 06-10-25  https://www.audible.com/ac/Caught-Up-Audiobook...  \n",
       "2  Release date: 12-14-24  https://www.audible.com/ac/Madness-Audiobook/B...  \n",
       "3  Release date: 12-16-24  https://www.audible.com/ac/Inner-Voice-Audiobo...  \n",
       "4  Release date: 01-02-25  https://www.audible.com/ac/Sabotage-Audiobook/...  "
      ]
     },
     "execution_count": 16,
     "metadata": {},
     "output_type": "execute_result"
    }
   ],
   "source": [
    "df.head()"
   ]
  },
  {
   "cell_type": "code",
   "execution_count": 17,
   "metadata": {},
   "outputs": [
    {
     "data": {
      "text/plain": [
       "(500, 7)"
      ]
     },
     "execution_count": 17,
     "metadata": {},
     "output_type": "execute_result"
    }
   ],
   "source": [
    "df.shape"
   ]
  },
  {
   "cell_type": "code",
   "execution_count": 18,
   "metadata": {},
   "outputs": [],
   "source": [
    "df.to_csv(Path.cwd().parent/'data'/'books'/'EroticTitles.csv')"
   ]
  },
  {
   "cell_type": "code",
   "execution_count": 13,
   "metadata": {},
   "outputs": [],
   "source": [
    "#driver.quit()"
   ]
  }
 ],
 "metadata": {
  "kernelspec": {
   "display_name": "scrape-env",
   "language": "python",
   "name": "python3"
  },
  "language_info": {
   "codemirror_mode": {
    "name": "ipython",
    "version": 3
   },
   "file_extension": ".py",
   "mimetype": "text/x-python",
   "name": "python",
   "nbconvert_exporter": "python",
   "pygments_lexer": "ipython3",
   "version": "3.13.1"
  }
 },
 "nbformat": 4,
 "nbformat_minor": 2
}
